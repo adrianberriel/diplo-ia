{
 "cells": [
  {
   "cell_type": "code",
   "metadata": {
    "id": "aEGgD6kL3kSW"
   },
   "source": [
    "import seaborn as sns\n",
    "penguins = sns.load_dataset(\"penguins\")\n",
    "penguins"
   ],
   "outputs": [],
   "execution_count": null
  },
  {
   "cell_type": "code",
   "metadata": {
    "id": "GJpB2mHY43uH"
   },
   "source": [
    "# Axes-level\n",
    "sns.histplot(data=penguins, x=\"flipper_length_mm\", hue=\"species\", multiple=\"stack\")"
   ],
   "outputs": [],
   "execution_count": null
  },
  {
   "cell_type": "code",
   "metadata": {
    "id": "Pjt39tX347Eq"
   },
   "source": [
    "# Figure-level\n",
    "sns.displot(data=penguins, x=\"flipper_length_mm\", hue=\"species\", multiple=\"stack\")"
   ],
   "outputs": [],
   "execution_count": null
  },
  {
   "cell_type": "code",
   "metadata": {
    "id": "FtuW8NOs54gh"
   },
   "source": [
    "# Multiples figuras (Figure-level)\n",
    "sns.displot(data=penguins, x=\"flipper_length_mm\", hue=\"species\", col=\"species\")"
   ],
   "outputs": [],
   "execution_count": null
  },
  {
   "cell_type": "code",
   "metadata": {
    "id": "V4YqeaXHIMQ2"
   },
   "source": [
    "# Axis level\n",
    "import matplotlib.pyplot as plt\n",
    "f, axs = plt.subplots(1, 2, figsize=(8, 4), gridspec_kw=dict(width_ratios=[4, 3]))\n",
    "sns.scatterplot(data=penguins, x=\"flipper_length_mm\", y=\"bill_length_mm\", hue=\"species\", ax=axs[0])\n",
    "sns.histplot(data=penguins, x=\"species\", hue=\"species\", shrink=.8, alpha=.8, legend=False, ax=axs[1])\n",
    "f.tight_layout()"
   ],
   "outputs": [],
   "execution_count": null
  },
  {
   "cell_type": "code",
   "metadata": {
    "id": "9lNkjOLmdhSG"
   },
   "source": [
    "# Figure-level\n",
    "tips = sns.load_dataset(\"tips\")"
   ],
   "outputs": [],
   "execution_count": null
  },
  {
   "cell_type": "code",
   "metadata": {
    "id": "nhc7biT2dks9"
   },
   "source": [
    "tips"
   ],
   "outputs": [],
   "execution_count": null
  },
  {
   "cell_type": "code",
   "metadata": {
    "id": "WZk0wB6TIpDi"
   },
   "source": [
    "g = sns.relplot(data=tips, x=\"total_bill\", y=\"tip\")"
   ],
   "outputs": [],
   "execution_count": null
  },
  {
   "cell_type": "code",
   "metadata": {
    "id": "3WB7R6pDJfOD"
   },
   "source": [
    "# Lineplot\n",
    "flights = sns.load_dataset(\"flights\")\n",
    "flights"
   ],
   "outputs": [],
   "execution_count": null
  },
  {
   "cell_type": "code",
   "metadata": {
    "id": "PRvStjQRJgup"
   },
   "source": [
    "# Axis-level\n",
    "may_flights = flights.query(\"month == 'May'\")\n",
    "sns.lineplot(data=may_flights, x=\"year\", y=\"passengers\")"
   ],
   "outputs": [],
   "execution_count": null
  },
  {
   "cell_type": "code",
   "metadata": {
    "id": "NSXaFPIOvAKD"
   },
   "source": [
    "flights"
   ],
   "outputs": [],
   "execution_count": null
  },
  {
   "cell_type": "code",
   "metadata": {
    "id": "JWDkbYgMu86l"
   },
   "source": [
    "flights.pivot(index=\"year\", columns=\"month\", values=\"passengers\")"
   ],
   "outputs": [],
   "execution_count": null
  },
  {
   "cell_type": "code",
   "metadata": {
    "id": "prSuM2jULAWh"
   },
   "source": [
    "# Axis-level\n",
    "flights_wide = flights.pivot(index=\"year\", columns=\"month\", values=\"passengers\")\n",
    "flights_wide.head()\n",
    "sns.lineplot(data=flights_wide)"
   ],
   "outputs": [],
   "execution_count": null
  },
  {
   "cell_type": "code",
   "metadata": {
    "id": "2LzTgj52MbCy"
   },
   "source": [
    "tips = sns.load_dataset(\"tips\")\n",
    "tips.head()"
   ],
   "outputs": [],
   "execution_count": null
  },
  {
   "cell_type": "code",
   "metadata": {
    "id": "Qqoa5K1eMd4Q"
   },
   "source": [
    "# Scatterplot\n",
    "sns.scatterplot(data=tips, x=\"total_bill\", y=\"tip\")"
   ],
   "outputs": [],
   "execution_count": null
  },
  {
   "cell_type": "code",
   "metadata": {
    "id": "XpVWISSMM7cd"
   },
   "source": [
    "sns.scatterplot(data=tips, x=\"total_bill\", y=\"tip\", hue=\"time\")"
   ],
   "outputs": [],
   "execution_count": null
  },
  {
   "cell_type": "code",
   "metadata": {
    "id": "1N3ZxdXzNlDw"
   },
   "source": [
    "# Barplot\n",
    "import seaborn as sns\n",
    "sns.set_theme(style=\"whitegrid\")\n",
    "tips = sns.load_dataset(\"tips\")\n",
    "ax = sns.barplot(x=\"day\", y=\"total_bill\", data=tips)"
   ],
   "outputs": [],
   "execution_count": null
  },
  {
   "cell_type": "code",
   "metadata": {
    "id": "AOAPAENqN0Ut"
   },
   "source": [
    " sns.barplot(x=\"day\", y=\"total_bill\", hue=\"sex\", data=tips)"
   ],
   "outputs": [],
   "execution_count": null
  },
  {
   "cell_type": "code",
   "metadata": {
    "id": "s5NwisuZOSP8"
   },
   "source": [
    "# Histograma\n",
    "penguins = sns.load_dataset(\"penguins\")\n",
    "# Axis-level\n",
    "sns.histplot(data=penguins, x=\"flipper_length_mm\")"
   ],
   "outputs": [],
   "execution_count": null
  },
  {
   "cell_type": "code",
   "metadata": {
    "id": "i_RvbSpxaDOa"
   },
   "source": [],
   "outputs": [],
   "execution_count": null
  },
  {
   "cell_type": "code",
   "metadata": {
    "id": "hXkD2CdrOiaZ"
   },
   "source": [
    "# Axis-level\n",
    "sns.histplot(data=penguins, x=\"flipper_length_mm\", hue=\"species\")"
   ],
   "outputs": [],
   "execution_count": null
  },
  {
   "cell_type": "code",
   "metadata": {
    "id": "UaeYpHipO0HZ"
   },
   "source": [
    "import seaborn as sns\n",
    "sns.set_theme(style=\"whitegrid\")\n",
    "tips = sns.load_dataset(\"tips\")\n",
    "# Axis-level\n",
    "ax = sns.boxplot(x=tips[\"total_bill\"])"
   ],
   "outputs": [],
   "execution_count": null
  },
  {
   "cell_type": "code",
   "metadata": {
    "id": "SbdG_J7BPCqI"
   },
   "source": [
    "# Axis-level\n",
    "ax = sns.boxplot(x=\"day\", y=\"total_bill\", data=tips)"
   ],
   "outputs": [],
   "execution_count": null
  },
  {
   "cell_type": "code",
   "metadata": {
    "id": "PGimZV6Xxc9B"
   },
   "source": [
    "tips.groupby([\"day\", \"size\"]).count()\n",
    "\n",
    "#Para evitar la advertencia, quitar comentario.\n",
    "#tips.groupby([\"day\", \"size\"],observed=False).count()"
   ],
   "outputs": [],
   "execution_count": null
  },
  {
   "cell_type": "code",
   "metadata": {
    "id": "YFqqkPblug5G"
   },
   "source": [
    "from google.colab import drive\n",
    "import os\n",
    "drive.mount('/content/gdrive')\n",
    "%cd '/content/gdrive/MyDrive/'"
   ],
   "outputs": [],
   "execution_count": null
  },
  {
   "cell_type": "code",
   "metadata": {
    "id": "4WfcoGtOkTPD"
   },
   "source": [
    "# Constantes y Variables de sesión\n",
    "\n",
    "#C_MAIN_PATH = '/home/jmmiguez/proyectoAudio/audio/'\n",
    "C_MAIN_PATH = '/content/gdrive/MyDrive/UP/00_Diplomatura_IA_2024/'\n",
    "\n",
    "V_NOMBRE_ARCHIVO_MAESTRO = 'Semana 02 - Módulo 01 - Clase 04 - Práctica - pune_1965_to_2002'\n",
    "V_PATH_Y_NOMRE_ARCHIVO_MP4 = C_MAIN_PATH + V_NOMBRE_ARCHIVO_MAESTRO + '.csv'"
   ],
   "outputs": [],
   "execution_count": null
  },
  {
   "cell_type": "code",
   "metadata": {
    "id": "98J83JpHkoK2"
   },
   "source": [
    "import pandas as pd\n",
    "df_lluvias = pd.read_csv(V_PATH_Y_NOMRE_ARCHIVO_MP4)"
   ],
   "outputs": [],
   "execution_count": null
  },
  {
   "cell_type": "code",
   "metadata": {
    "id": "z2QgXloturcK"
   },
   "source": [
    "#import pandas as pd\n",
    "#df_lluvias = pd.read_csv('/content/gdrive/MyDrive/UP - Diplomatura AI/Clase 4 - Graficos y Analisis de Datos/pune_1965_to_2002.csv')\n",
    "df_lluvias.head()"
   ],
   "outputs": [],
   "execution_count": null
  },
  {
   "cell_type": "code",
   "metadata": {
    "id": "L1BdLE4puteo"
   },
   "source": [
    "df_lluvias.index = df_lluvias['Year']\n",
    "df_lluvias = df_lluvias.drop('Year', axis='columns')\n",
    "df_lluvias"
   ],
   "outputs": [],
   "execution_count": null
  },
  {
   "cell_type": "code",
   "metadata": {
    "id": "vc0FP-6TWeBl"
   },
   "source": [
    "fig, ax = plt.subplots(nrows=3, ncols=1, figsize=(12, 5), sharex=True, sharey=True)\n",
    "ax[0].plot(df_lluvias.index, df_lluvias['Jan'], label='Precipitaciones de enero')\n",
    "ax[1].plot(df_lluvias.index, df_lluvias['Feb'], label='Precipitaciones de febrero', color='C1')\n",
    "ax[2].plot(df_lluvias.index, df_lluvias['Mar'], label='Precipitaciones de marzo', color='C2')"
   ],
   "outputs": [],
   "execution_count": null
  },
  {
   "cell_type": "code",
   "metadata": {
    "id": "RDKriaW0n7Dv"
   },
   "source": [
    "fig, ax = plt.subplots(nrows=3, ncols=1, figsize=(12, 5), sharex=True, sharey=True)\n",
    "ax[0].plot(df_lluvias.index, df_lluvias['Jan'], label='Precipitaciones de enero')\n",
    "ax[1].plot(df_lluvias.index, df_lluvias['Feb'], label='Precipitaciones de febrero', color='C1')\n",
    "ax[2].plot(df_lluvias.index, df_lluvias['Mar'], label='Precipitaciones de marzo', color='C2')\n",
    "\n",
    "ax[0].set_title('Precipitaciones de los primeros tres meses del año')\n",
    "ax[2].set_xlabel('Año')\n",
    "ax[1].set_ylabel('Precipitación (mm.)')\n",
    "\n",
    "ax[0].legend()\n",
    "ax[1].legend()\n",
    "ax[2].legend()"
   ],
   "outputs": [],
   "execution_count": null
  },
  {
   "cell_type": "code",
   "metadata": {
    "id": "cy2B3p0KzJVS"
   },
   "source": [
    "tips = sns.load_dataset(\"car_crashes\")"
   ],
   "outputs": [],
   "execution_count": null
  },
  {
   "cell_type": "code",
   "metadata": {
    "id": "FIYeZ9NCXlbU"
   },
   "source": [
    "# FacetGrid\n",
    "tips = sns.load_dataset(\"tips\")\n",
    "g = sns.FacetGrid(tips, col=\"time\",  row=\"sex\")\n",
    "g.map(sns.scatterplot, \"total_bill\", \"tip\")"
   ],
   "outputs": [],
   "execution_count": null
  },
  {
   "cell_type": "code",
   "metadata": {
    "id": "kDuzJcItX3qU"
   },
   "source": [
    "g = sns.FacetGrid(tips, col=\"time\", hue=\"sex\")\n",
    "g.map_dataframe(sns.scatterplot, x=\"total_bill\", y=\"tip\")\n",
    "g.add_legend()"
   ],
   "outputs": [],
   "execution_count": null
  },
  {
   "cell_type": "code",
   "metadata": {
    "id": "Wx2HQTPiYsD6"
   },
   "source": [
    "import matplotlib as mpl\n",
    "mpl.rcParams['axes.titleweight'] = 'bold'\n",
    "mpl.rcParams['axes.titlelocation'] = 'left'\n",
    "mpl.rcParams['axes.titlecolor'] = 'firebrick'\n",
    "mpl.rcParams['axes.labelcolor'] = 'blue'\n",
    "mpl.rcParams['axes.labelsize'] = '10'\n",
    "mpl.rcParams['axes.labelweight'] = 'light'\n",
    "mpl.rcParams['axes.linewidth'] = '1'\n",
    "mpl.rcParams['grid.color'] = 'black'\n",
    "mpl.rcParams['grid.linestyle'] = '-.'\n",
    "mpl.rcParams['grid.linewidth'] = '2'\n",
    "\n",
    "fig, ax = plt.subplots(figsize=(7, 4))\n",
    "ax.scatter(df_lluvias['Aug'], df_lluvias['Sep'], c=df_lluvias.index)\n",
    "ax.set_title('(Título rojo en negrita)')\n",
    "ax.set_xlabel('(Etiqueta eje horiz.)')\n",
    "ax.set_ylabel('(Etiqueta eje vert.)')"
   ],
   "outputs": [],
   "execution_count": null
  },
  {
   "cell_type": "code",
   "metadata": {
    "id": "cao24bgcY30_"
   },
   "source": [
    "#  Restaurar por defecto\n",
    "mpl.rcParams.update(mpl.rcParamsDefault)"
   ],
   "outputs": [],
   "execution_count": null
  },
  {
   "cell_type": "code",
   "metadata": {
    "id": "zjISXyIYY6B3"
   },
   "source": [
    "mpl.rcParams.keys()"
   ],
   "outputs": [],
   "execution_count": null
  },
  {
   "cell_type": "code",
   "metadata": {
    "id": "2LWO4lRZbtkC"
   },
   "source": [
    "mpl.rcParams"
   ],
   "outputs": [],
   "execution_count": null
  },
  {
   "cell_type": "code",
   "metadata": {
    "id": "Q8BoS7MeZrMl"
   },
   "source": [
    "sns.set_style(style=\"darkgrid\", rc={\"grid.color\": \".6\"})\n",
    "sns.set_style(rc={\"grid.linestyle\": \":\"})\n",
    "sns.set_style(rc={\"axes.titleweight\": \"normal\"})\n",
    "sns.set_style(rc={\"axes.titlelocation\": \"left\"})\n",
    "sns.set_style(rc={\"axes.titlecolor\": \"blue\"})\n",
    "sns.set_style(rc={\"axes.labelcolor\": \"red\"})\n",
    "sns.set_style(rc={\"axes.labelsize\": \"12\"})\n",
    "sns.set_style(rc={\"axes.labelweight\": \"normal\"})\n",
    "sns.set_style(rc={\"axes.linewidth\": \"0.5\"})\n",
    "sns.set_style(rc={\"grid.color\": \"purple\"})\n",
    "sns.set_style(rc={\"grid.linestyle\": \"--\"})\n",
    "sns.set_style(rc={\"grid.linewidth\": \"0.5\"})\n",
    "sns.set_style(rc={\"font.fantasy\": \"Comic Sans MS\"})\n",
    "sns.set_style(rc={\"font.serif\": \"Utopia\"})"
   ],
   "outputs": [],
   "execution_count": null
  },
  {
   "cell_type": "code",
   "metadata": {
    "id": "MynWiP8OaFE3"
   },
   "source": [
    "penguins = sns.load_dataset(\"penguins\")\n",
    "# Axis-level\n",
    "sns.histplot(data=penguins, x=\"flipper_length_mm\")"
   ],
   "outputs": [],
   "execution_count": null
  },
  {
   "cell_type": "code",
   "metadata": {
    "id": "HMsKmkIUcwyx"
   },
   "source": [
    "sns.reset_orig()\n",
    "penguins = sns.load_dataset(\"penguins\")\n",
    "# Axis-level\n",
    "sns.histplot(data=penguins, x=\"flipper_length_mm\")"
   ],
   "outputs": [],
   "execution_count": null
  },
  {
   "cell_type": "code",
   "metadata": {
    "id": "pwIUhBlreplx"
   },
   "source": [
    "# Ejemplo aplicado\n",
    "df_ejercicio = sns.load_dataset('exercise')\n",
    "df_ejercicio = df_ejercicio.drop('Unnamed: 0', axis='columns')\n",
    "df_ejercicio.head()"
   ],
   "outputs": [],
   "execution_count": null
  },
  {
   "cell_type": "code",
   "metadata": {
    "id": "XEl4IoGMetDC"
   },
   "source": [
    "df_30_min = df_ejercicio[df_ejercicio['time'] == '30 min']\n",
    "df_30_min.head()"
   ],
   "outputs": [],
   "execution_count": null
  },
  {
   "cell_type": "code",
   "metadata": {
    "id": "fwFRCkyEexyh"
   },
   "source": [
    "plt.figure()\n",
    "# Figure -level\n",
    "ax = sns.displot(data=df_30_min, x='pulse', kind='kde', hue='kind', fill=True)\n",
    "ax.set(xlabel='Frecuencia Cardíaca', ylabel='Densidad', title='Distribución  de las pulsaciones')"
   ],
   "outputs": [],
   "execution_count": null
  },
  {
   "cell_type": "code",
   "metadata": {
    "id": "Tfe7k01ce5C3"
   },
   "source": [
    "ax = sns.catplot(data=df_ejercicio, kind='violin', x='time', y='pulse', hue='diet', split=True)\n",
    "ax.set(xlabel='Duración de ejercicio', ylabel='Frecuencia cardíaca', title='Categorización de la distribución de pulsaciones')"
   ],
   "outputs": [],
   "execution_count": null
  }
 ],
 "metadata": {
  "colab": {
   "provenance": []
  },
  "kernelspec": {
   "display_name": "Python 3",
   "name": "python3"
  },
  "language_info": {
   "name": "python"
  }
 },
 "nbformat": 4,
 "nbformat_minor": 0
}
