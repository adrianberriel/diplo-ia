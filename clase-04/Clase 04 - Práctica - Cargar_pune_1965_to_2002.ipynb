{
 "nbformat": 4,
 "nbformat_minor": 0,
 "metadata": {
  "colab": {
   "provenance": [],
   "mount_file_id": "106u67-aZW9O_JIqpPW2ZpVXZcGOJ7cZ2",
   "authorship_tag": "ABX9TyMvtvzdQfA5oDQ3aekFn0TR"
  },
  "kernelspec": {
   "name": "python3",
   "display_name": "Python 3"
  },
  "language_info": {
   "name": "python"
  }
 },
 "cells": [
  {
   "cell_type": "markdown",
   "source": [
    "Instalar Pandas"
   ],
   "metadata": {
    "id": "ft271jVtrjqs"
   }
  },
  {
   "cell_type": "code",
   "metadata": {
    "id": "iQL-Ch97rDLt",
    "executionInfo": {
     "status": "ok",
     "timestamp": 1745524624628,
     "user_tz": 180,
     "elapsed": 1904,
     "user": {
      "displayName": "Juan Manuel Miguez",
      "userId": "12274514258704764447"
     }
    }
   },
   "source": [
    "#Para manejar y analizar estructuras de datos.\n",
    "#!pip3 install pandas\n",
    "#!pip3 install --upgrade pandas\n",
    "import pandas as pd"
   ],
   "outputs": [],
   "execution_count": null
  },
  {
   "cell_type": "markdown",
   "source": [
    "importar pandas y montar volumen de mi Drive"
   ],
   "metadata": {
    "id": "bNDOhqZWroGU"
   }
  },
  {
   "cell_type": "code",
   "source": [
    "import os\n",
    "#import pandas as pd\n",
    "from google.colab import drive\n",
    "drive.mount('/content/drive/')"
   ],
   "metadata": {
    "id": "_6sGIq99s0je",
    "colab": {
     "base_uri": "https://localhost:8080/"
    },
    "executionInfo": {
     "status": "ok",
     "timestamp": 1745524652102,
     "user_tz": 180,
     "elapsed": 21163,
     "user": {
      "displayName": "Juan Manuel Miguez",
      "userId": "12274514258704764447"
     }
    },
    "outputId": "b7ff3f8a-1378-468c-bb0f-475da61c50af"
   },
   "outputs": [],
   "execution_count": null
  },
  {
   "cell_type": "markdown",
   "source": [
    "Defino variables para cargar el archivo."
   ],
   "metadata": {
    "id": "Jo-S4vLruQ3m"
   }
  },
  {
   "cell_type": "code",
   "source": [
    "# Constantes y Variables de sesión\n",
    "C_MAIN_PATH = '/content/drive/MyDrive/UP/00_Diplomatura_IA/03_Edición_202504/Clase 04/'\n",
    "V_NOMBRE_ARCHIVO_MAESTRO = 'Semana 02 - Módulo 01 - Clase 04 - Práctica - pune_1965_to_2002'\n",
    "V_PATH_Y_NOMRE_ARCHIVO_MP4 = C_MAIN_PATH + V_NOMBRE_ARCHIVO_MAESTRO + '.csv'"
   ],
   "metadata": {
    "id": "2DDLqgimtqi2",
    "executionInfo": {
     "status": "ok",
     "timestamp": 1745524661385,
     "user_tz": 180,
     "elapsed": 1,
     "user": {
      "displayName": "Juan Manuel Miguez",
      "userId": "12274514258704764447"
     }
    }
   },
   "outputs": [],
   "execution_count": null
  },
  {
   "cell_type": "markdown",
   "source": [
    "Cargar archivo desde mi Drive"
   ],
   "metadata": {
    "id": "FnD2tHrvrvu1"
   }
  },
  {
   "cell_type": "code",
   "source": [
    "df_lluvias_archivo = pd.read_csv(V_PATH_Y_NOMRE_ARCHIVO_MP4)"
   ],
   "metadata": {
    "id": "PcYdbubbrHBU",
    "executionInfo": {
     "status": "ok",
     "timestamp": 1745524668596,
     "user_tz": 180,
     "elapsed": 1437,
     "user": {
      "displayName": "Juan Manuel Miguez",
      "userId": "12274514258704764447"
     }
    }
   },
   "outputs": [],
   "execution_count": null
  },
  {
   "cell_type": "markdown",
   "source": [
    "Imprimo Dataframe."
   ],
   "metadata": {
    "id": "-JeDotIIvnkO"
   }
  },
  {
   "cell_type": "code",
   "source": [
    "df_lluvias_archivo.head(10)"
   ],
   "metadata": {
    "id": "3eYlfQGevCx1",
    "colab": {
     "base_uri": "https://localhost:8080/",
     "height": 363
    },
    "executionInfo": {
     "status": "ok",
     "timestamp": 1745524853532,
     "user_tz": 180,
     "elapsed": 112,
     "user": {
      "displayName": "Juan Manuel Miguez",
      "userId": "12274514258704764447"
     }
    },
    "outputId": "33338d8e-45ae-4531-f683-78595543f284"
   },
   "outputs": [],
   "execution_count": null
  },
  {
   "cell_type": "code",
   "source": [
    "df_lluvias_archivo.describe()"
   ],
   "metadata": {
    "colab": {
     "base_uri": "https://localhost:8080/",
     "height": 300
    },
    "id": "V8OMSjQ9dw2A",
    "executionInfo": {
     "status": "ok",
     "timestamp": 1745526149406,
     "user_tz": 180,
     "elapsed": 74,
     "user": {
      "displayName": "Juan Manuel Miguez",
      "userId": "12274514258704764447"
     }
    },
    "outputId": "825306d0-0156-48ff-92f2-8474ca3f4ac8"
   },
   "outputs": [],
   "execution_count": null
  },
  {
   "cell_type": "markdown",
   "source": [
    "Creo el índice por defecto, como el número del año. Imprimo el resultado."
   ],
   "metadata": {
    "id": "IBzfAARdwRc9"
   }
  },
  {
   "cell_type": "code",
   "source": [
    "indice = list(df_lluvias_archivo.Year)\n",
    "indice"
   ],
   "metadata": {
    "id": "cdmccCZZwLOl",
    "colab": {
     "base_uri": "https://localhost:8080/"
    },
    "executionInfo": {
     "status": "ok",
     "timestamp": 1745524861316,
     "user_tz": 180,
     "elapsed": 15,
     "user": {
      "displayName": "Juan Manuel Miguez",
      "userId": "12274514258704764447"
     }
    },
    "outputId": "6eaadc82-7b31-4490-e494-1eefb4622790"
   },
   "outputs": [],
   "execution_count": null
  },
  {
   "cell_type": "markdown",
   "source": [
    "Creo otra serie para el nombre de las columnas. Imprimo el resultado."
   ],
   "metadata": {
    "id": "HYKzUpIPxLsM"
   }
  },
  {
   "cell_type": "code",
   "source": [
    "columnas = df_lluvias_archivo.columns[1:]\n",
    "columnas"
   ],
   "metadata": {
    "id": "NSrG9GK3xMCV",
    "colab": {
     "base_uri": "https://localhost:8080/"
    },
    "executionInfo": {
     "status": "ok",
     "timestamp": 1745524926030,
     "user_tz": 180,
     "elapsed": 10,
     "user": {
      "displayName": "Juan Manuel Miguez",
      "userId": "12274514258704764447"
     }
    },
    "outputId": "3f696b2e-b6f5-420f-9da5-a730c3d90017"
   },
   "outputs": [],
   "execution_count": null
  },
  {
   "cell_type": "markdown",
   "source": [
    "Creo el arreglo con todos los valores, excepto los de la primera columna.\n",
    "Imprimo el resultado."
   ],
   "metadata": {
    "id": "zLFKWYwqxlty"
   }
  },
  {
   "cell_type": "code",
   "source": [
    "valores = df_lluvias_archivo.values[:,1:]\n",
    "valores"
   ],
   "metadata": {
    "id": "1UduiRVXxLOt",
    "colab": {
     "base_uri": "https://localhost:8080/"
    },
    "executionInfo": {
     "status": "ok",
     "timestamp": 1745524946830,
     "user_tz": 180,
     "elapsed": 61,
     "user": {
      "displayName": "Juan Manuel Miguez",
      "userId": "12274514258704764447"
     }
    },
    "outputId": "0ffc67ee-ff9c-4dfb-84c9-52c9d5a0cbe5"
   },
   "outputs": [],
   "execution_count": null
  },
  {
   "cell_type": "markdown",
   "source": [
    "Juntamos todas las partes…"
   ],
   "metadata": {
    "id": "xyZ8RaooxyGr"
   }
  },
  {
   "cell_type": "code",
   "source": [
    "df_lluvias = pd.DataFrame(valores,index=indice,columns=columnas)\n",
    "df_lluvias.head(10)"
   ],
   "metadata": {
    "id": "cSJLt6rOxys5",
    "colab": {
     "base_uri": "https://localhost:8080/",
     "height": 363
    },
    "executionInfo": {
     "status": "ok",
     "timestamp": 1745525065424,
     "user_tz": 180,
     "elapsed": 157,
     "user": {
      "displayName": "Juan Manuel Miguez",
      "userId": "12274514258704764447"
     }
    },
    "outputId": "272cd874-a50f-4644-fb35-f10aa6f14f1a"
   },
   "outputs": [],
   "execution_count": null
  },
  {
   "cell_type": "markdown",
   "source": [
    "Suma de las precipitaciones para cada mes."
   ],
   "metadata": {
    "id": "czT7TqmD3GKF"
   }
  },
  {
   "cell_type": "code",
   "source": [
    "df_lluvias.sum()"
   ],
   "metadata": {
    "id": "ywVqIAh82MhQ",
    "colab": {
     "base_uri": "https://localhost:8080/",
     "height": 460
    },
    "executionInfo": {
     "status": "ok",
     "timestamp": 1745525166325,
     "user_tz": 180,
     "elapsed": 14,
     "user": {
      "displayName": "Juan Manuel Miguez",
      "userId": "12274514258704764447"
     }
    },
    "outputId": "b23f220c-d3c6-4d7a-ee12-7ba6baac0800"
   },
   "outputs": [],
   "execution_count": null
  },
  {
   "cell_type": "markdown",
   "source": [
    "Promedio de precipitaciones de cada mes."
   ],
   "metadata": {
    "id": "ZApgj3pU3N8z"
   }
  },
  {
   "cell_type": "code",
   "source": [
    "df_lluvias.mean(axis='rows')"
   ],
   "metadata": {
    "id": "Ova2zQbQ3KV3",
    "colab": {
     "base_uri": "https://localhost:8080/",
     "height": 460
    },
    "executionInfo": {
     "status": "ok",
     "timestamp": 1745525219470,
     "user_tz": 180,
     "elapsed": 7,
     "user": {
      "displayName": "Juan Manuel Miguez",
      "userId": "12274514258704764447"
     }
    },
    "outputId": "9259086a-231f-4c70-f5cf-5eed49dbfb03"
   },
   "outputs": [],
   "execution_count": null
  },
  {
   "cell_type": "markdown",
   "source": [
    "Promedio de precipitaciones de cada año."
   ],
   "metadata": {
    "id": "rL-SYDVP3ctx"
   }
  },
  {
   "cell_type": "code",
   "source": [
    "df_lluvias.mean(axis='columns')"
   ],
   "metadata": {
    "id": "EIOD-FTe3Q-a",
    "colab": {
     "base_uri": "https://localhost:8080/",
     "height": 1000
    },
    "executionInfo": {
     "status": "ok",
     "timestamp": 1745525255109,
     "user_tz": 180,
     "elapsed": 45,
     "user": {
      "displayName": "Juan Manuel Miguez",
      "userId": "12274514258704764447"
     }
    },
    "outputId": "b04d08c5-3bda-4a6f-be16-f4872eeffdbf"
   },
   "outputs": [],
   "execution_count": null
  },
  {
   "cell_type": "markdown",
   "source": [
    "Obtener un breve resumen del Data Frame con describe() y Redondear los valores del Data Frame con el método round()"
   ],
   "metadata": {
    "id": "RIsVK82b4LId"
   }
  },
  {
   "cell_type": "code",
   "source": [
    "df_lluvias.describe().round(1)"
   ],
   "metadata": {
    "id": "fOXciUBP3f5C",
    "colab": {
     "base_uri": "https://localhost:8080/",
     "height": 300
    },
    "executionInfo": {
     "status": "ok",
     "timestamp": 1745525266587,
     "user_tz": 180,
     "elapsed": 118,
     "user": {
      "displayName": "Juan Manuel Miguez",
      "userId": "12274514258704764447"
     }
    },
    "outputId": "ddcdbc66-ad99-40ac-bb69-d174ee2325f9"
   },
   "outputs": [],
   "execution_count": null
  },
  {
   "cell_type": "markdown",
   "source": [
    "Agrupar por una o más categorías y luego aplicar una función de resumen por ejemplo (media, mediana, moda, max, min)"
   ],
   "metadata": {
    "id": "CO10bjJz5a-A"
   }
  },
  {
   "cell_type": "code",
   "source": [
    "df_lluvias_archivo.groupby('Year').mean().head(10)"
   ],
   "metadata": {
    "colab": {
     "base_uri": "https://localhost:8080/",
     "height": 394
    },
    "id": "W7sL-nQvawKF",
    "executionInfo": {
     "status": "ok",
     "timestamp": 1745525374749,
     "user_tz": 180,
     "elapsed": 74,
     "user": {
      "displayName": "Juan Manuel Miguez",
      "userId": "12274514258704764447"
     }
    },
    "outputId": "4c577d96-031d-463c-f3a2-225c1729e0eb"
   },
   "outputs": [],
   "execution_count": null
  },
  {
   "cell_type": "code",
   "source": [
    "df_lluvias_archivo.loc[2:5,['Year','Jan','Feb','Mar']].head(10)"
   ],
   "metadata": {
    "colab": {
     "base_uri": "https://localhost:8080/",
     "height": 175
    },
    "id": "jOIf-1d6av6N",
    "executionInfo": {
     "status": "ok",
     "timestamp": 1745525535720,
     "user_tz": 180,
     "elapsed": 24,
     "user": {
      "displayName": "Juan Manuel Miguez",
      "userId": "12274514258704764447"
     }
    },
    "outputId": "46d96b6f-770d-49b1-a431-764aebb3c0c5"
   },
   "outputs": [],
   "execution_count": null
  },
  {
   "cell_type": "code",
   "source": [
    "#df_lluvias_archivo.loc[:,['Jan','Feb','Mar']]\n",
    "df_lluvias_archivo.loc[2:5,['Year','Jan','Feb','Mar']].groupby('Year').mean().head(15)"
   ],
   "metadata": {
    "id": "GfIornQ24KJN",
    "colab": {
     "base_uri": "https://localhost:8080/",
     "height": 206
    },
    "executionInfo": {
     "status": "ok",
     "timestamp": 1745525561950,
     "user_tz": 180,
     "elapsed": 50,
     "user": {
      "displayName": "Juan Manuel Miguez",
      "userId": "12274514258704764447"
     }
    },
    "outputId": "2764b575-064e-4565-9951-81aa511a475c"
   },
   "outputs": [],
   "execution_count": null
  },
  {
   "cell_type": "markdown",
   "source": [
    "Mismo caso que antes, pero filtrando categorías al final"
   ],
   "metadata": {
    "id": "lpVORcv6AWir"
   }
  },
  {
   "cell_type": "code",
   "source": [
    "df_lluvias_archivo.groupby('Year').mean().head(15)"
   ],
   "metadata": {
    "id": "WrClrwE85hc7",
    "colab": {
     "base_uri": "https://localhost:8080/",
     "height": 551
    },
    "executionInfo": {
     "status": "ok",
     "timestamp": 1745525650994,
     "user_tz": 180,
     "elapsed": 69,
     "user": {
      "displayName": "Juan Manuel Miguez",
      "userId": "12274514258704764447"
     }
    },
    "outputId": "eaa22f7d-0aa8-4081-c5a8-a8e60b8f41e9"
   },
   "outputs": [],
   "execution_count": null
  },
  {
   "cell_type": "code",
   "source": [
    "df_lluvias_archivo.groupby('Year').mean().head(15).loc[1966:1968,['Jan','Feb','Mar']]"
   ],
   "metadata": {
    "colab": {
     "base_uri": "https://localhost:8080/",
     "height": 175
    },
    "id": "BCGj21o3b8y3",
    "executionInfo": {
     "status": "ok",
     "timestamp": 1745525721842,
     "user_tz": 180,
     "elapsed": 79,
     "user": {
      "displayName": "Juan Manuel Miguez",
      "userId": "12274514258704764447"
     }
    },
    "outputId": "3541a639-ee82-4bc1-cb49-4b782d1a6740"
   },
   "outputs": [],
   "execution_count": null
  },
  {
   "cell_type": "markdown",
   "source": [
    "Asigno un valor a una variable del tipo String, e imprimo la letra que está en la 5ta posición (por derecha y por izquierda)"
   ],
   "metadata": {
    "id": "PFKX_SErE7wa"
   }
  },
  {
   "cell_type": "code",
   "source": [
    "variable_string = \"Python\"\n",
    "variable_string[5] + \"---\" + variable_string[-1]"
   ],
   "metadata": {
    "id": "LCTW0mnqAbOy",
    "colab": {
     "base_uri": "https://localhost:8080/",
     "height": 35
    },
    "executionInfo": {
     "status": "ok",
     "timestamp": 1745525746650,
     "user_tz": 180,
     "elapsed": 7,
     "user": {
      "displayName": "Juan Manuel Miguez",
      "userId": "12274514258704764447"
     }
    },
    "outputId": "dfbd2011-0720-408b-90ef-27a5fd2b6f38"
   },
   "outputs": [],
   "execution_count": null
  },
  {
   "cell_type": "markdown",
   "source": [
    "Primeros pasos con Matplotlib: Interfaz orientada a objetos."
   ],
   "metadata": {
    "id": "wam3aEvXJuP9"
   }
  },
  {
   "cell_type": "code",
   "source": [
    "import matplotlib as plt"
   ],
   "metadata": {
    "id": "3M6yd0R4KGc1",
    "executionInfo": {
     "status": "ok",
     "timestamp": 1745525751269,
     "user_tz": 180,
     "elapsed": 2,
     "user": {
      "displayName": "Juan Manuel Miguez",
      "userId": "12274514258704764447"
     }
    }
   },
   "outputs": [],
   "execution_count": null
  },
  {
   "cell_type": "code",
   "source": [
    "fig, ax = plt.pyplot.subplots()\n",
    "ax.plot([1, 3], [2, 4])"
   ],
   "metadata": {
    "id": "fcRGkQC2Juy-",
    "colab": {
     "base_uri": "https://localhost:8080/",
     "height": 447
    },
    "executionInfo": {
     "status": "ok",
     "timestamp": 1745525754802,
     "user_tz": 180,
     "elapsed": 193,
     "user": {
      "displayName": "Juan Manuel Miguez",
      "userId": "12274514258704764447"
     }
    },
    "outputId": "73a5c517-0a03-4031-af62-798d31d5b06d"
   },
   "outputs": [],
   "execution_count": null
  },
  {
   "cell_type": "markdown",
   "source": [
    "Interfaz orientada a estados"
   ],
   "metadata": {
    "id": "RDsNFTX2MCVi"
   }
  },
  {
   "cell_type": "code",
   "source": [
    "plt.pyplot.plot([1, 3], [2, 4])"
   ],
   "metadata": {
    "id": "SDquJWTiKAkN",
    "colab": {
     "base_uri": "https://localhost:8080/",
     "height": 447
    },
    "executionInfo": {
     "status": "ok",
     "timestamp": 1745525766335,
     "user_tz": 180,
     "elapsed": 393,
     "user": {
      "displayName": "Juan Manuel Miguez",
      "userId": "12274514258704764447"
     }
    },
    "outputId": "6b814f6b-fc15-4665-fd9d-ed1746afe318"
   },
   "outputs": [],
   "execution_count": null
  },
  {
   "cell_type": "markdown",
   "source": [
    "Vuelvo a mi primer Dataframe, mostrando las primeras filas."
   ],
   "metadata": {
    "id": "4YYkC0NJNs8y"
   }
  },
  {
   "cell_type": "code",
   "source": [
    "df_lluvias_archivo.head()"
   ],
   "metadata": {
    "id": "oVRft1EkMITu",
    "colab": {
     "base_uri": "https://localhost:8080/",
     "height": 206
    },
    "executionInfo": {
     "status": "ok",
     "timestamp": 1745525778840,
     "user_tz": 180,
     "elapsed": 41,
     "user": {
      "displayName": "Juan Manuel Miguez",
      "userId": "12274514258704764447"
     }
    },
    "outputId": "e5fd0939-feeb-4ab1-f7d4-3c160e6aaad0"
   },
   "outputs": [],
   "execution_count": null
  },
  {
   "cell_type": "markdown",
   "source": [
    "Por conveniencia, ponemos a Year como índice del Data Frame y lo eliminamos de las columnas"
   ],
   "metadata": {
    "id": "Ku_d364bOUYV"
   }
  },
  {
   "cell_type": "code",
   "source": [
    "df_lluvias_archivo.index = df_lluvias_archivo['Year']\n",
    "df_lluvias_archivo = df_lluvias_archivo.drop('Year', axis='columns')"
   ],
   "metadata": {
    "id": "8okTkcvzNu5M",
    "executionInfo": {
     "status": "ok",
     "timestamp": 1745525792324,
     "user_tz": 180,
     "elapsed": 41,
     "user": {
      "displayName": "Juan Manuel Miguez",
      "userId": "12274514258704764447"
     }
    }
   },
   "outputs": [],
   "execution_count": null
  },
  {
   "cell_type": "code",
   "source": [
    "df_lluvias_archivo.head()"
   ],
   "metadata": {
    "id": "NkCmL-dhOXVy",
    "colab": {
     "base_uri": "https://localhost:8080/",
     "height": 238
    },
    "executionInfo": {
     "status": "ok",
     "timestamp": 1745525796481,
     "user_tz": 180,
     "elapsed": 49,
     "user": {
      "displayName": "Juan Manuel Miguez",
      "userId": "12274514258704764447"
     }
    },
    "outputId": "e04cb35a-30e3-44bf-eb1e-35557a4b5578"
   },
   "outputs": [],
   "execution_count": null
  },
  {
   "cell_type": "markdown",
   "source": [
    "Grafiquemos las precipitaciones acumuladas para los distintos años: Para el eje x, seleccionamos los años"
   ],
   "metadata": {
    "id": "lW1K-_cFPh_p"
   }
  },
  {
   "cell_type": "code",
   "source": [
    "x = df_lluvias.index"
   ],
   "metadata": {
    "id": "1l54xc5bOgNx",
    "executionInfo": {
     "status": "ok",
     "timestamp": 1745525803539,
     "user_tz": 180,
     "elapsed": 7,
     "user": {
      "displayName": "Juan Manuel Miguez",
      "userId": "12274514258704764447"
     }
    }
   },
   "outputs": [],
   "execution_count": null
  },
  {
   "cell_type": "markdown",
   "source": [
    "Para el eje y, acumulamos las precipitaciones por año. Muestro sumatoria por año en pantalla."
   ],
   "metadata": {
    "id": "LKQeL-wZQB4k"
   }
  },
  {
   "cell_type": "code",
   "source": [
    "y = df_lluvias.sum(axis='columns')\n",
    "y"
   ],
   "metadata": {
    "id": "NwkOhHO2Ooda",
    "colab": {
     "base_uri": "https://localhost:8080/",
     "height": 1000
    },
    "executionInfo": {
     "status": "ok",
     "timestamp": 1745525828698,
     "user_tz": 180,
     "elapsed": 29,
     "user": {
      "displayName": "Juan Manuel Miguez",
      "userId": "12274514258704764447"
     }
    },
    "outputId": "78503425-d713-4331-d03f-7fd822e5e9c8"
   },
   "outputs": [],
   "execution_count": null
  },
  {
   "cell_type": "markdown",
   "source": [
    "Definimos los objetos fig y ax, los cuales contendrán la figura:"
   ],
   "metadata": {
    "id": "_XXD8pctQqSI"
   }
  },
  {
   "cell_type": "code",
   "source": [
    "fig, ax = plt.pyplot.subplots(figsize=(12, 4))\n",
    "ax.plot(x, y, label='Precipitaciones acumuladas')"
   ],
   "metadata": {
    "id": "WSuxFALWPqi-",
    "colab": {
     "base_uri": "https://localhost:8080/",
     "height": 385
    },
    "executionInfo": {
     "status": "ok",
     "timestamp": 1745525848636,
     "user_tz": 180,
     "elapsed": 249,
     "user": {
      "displayName": "Juan Manuel Miguez",
      "userId": "12274514258704764447"
     }
    },
    "outputId": "b261fd9a-6d1e-4550-cfa8-c667f6a27750"
   },
   "outputs": [],
   "execution_count": null
  },
  {
   "cell_type": "markdown",
   "source": [
    "Etiquetamos los ejes, añadimos un título e insertamos la leyenda - Resultado con etiquetas en los ejes, título y leyendas."
   ],
   "metadata": {
    "id": "E73FpbzURR9C"
   }
  },
  {
   "cell_type": "code",
   "source": [
    "fig, ax = plt.pyplot.subplots(figsize=(12, 4))\n",
    "ax.set_xlabel('Año')\n",
    "ax.set_ylabel('Precipitación acumulada (mm.)')\n",
    "ax.set_title('Precipitaciones acumuladas según el año')\n",
    "ax.plot(x, y)\n",
    "ax.legend([\"Precipitaciones acumuladas\"], fontsize=\"x-large\")"
   ],
   "metadata": {
    "id": "w_cTtf-qQrhO",
    "colab": {
     "base_uri": "https://localhost:8080/",
     "height": 428
    },
    "executionInfo": {
     "status": "ok",
     "timestamp": 1745525856760,
     "user_tz": 180,
     "elapsed": 457,
     "user": {
      "displayName": "Juan Manuel Miguez",
      "userId": "12274514258704764447"
     }
    },
    "outputId": "e1b0c6f9-ae2c-4326-c27a-f163fcae1738"
   },
   "outputs": [],
   "execution_count": null
  }
 ]
}
