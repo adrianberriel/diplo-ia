{
 "cells": [
  {
   "cell_type": "code",
   "metadata": {
    "executionInfo": {
     "elapsed": 4569,
     "status": "ok",
     "timestamp": 1726184692833,
     "user": {
      "displayName": "Juan Manuel Miguez",
      "userId": "12274514258704764447"
     },
     "user_tz": 180
    },
    "id": "BlIqhiG8ZvJp"
   },
   "source": [
    "import seaborn as sns\n",
    "import matplotlib.pyplot as plt\n",
    "import numpy as np\n",
    "import pandas as pd"
   ],
   "outputs": [],
   "execution_count": null
  },
  {
   "cell_type": "markdown",
   "metadata": {
    "id": "PGSm0VEtq2oW"
   },
   "source": [
    "Diccionario de los Datos:\n",
    "\n",
    "```\n",
    "survival:\tSurvival\t{0 = No, 1 = Yes}\n",
    "pclass:\tTicket class\t{1 = 1st, 2 = 2nd, 3 = 3rd}\n",
    "sex:\tSex\n",
    "Age:\tAge in years\n",
    "sibsp:\tNumber of siblings / spouses aboard the Titanic\n",
    "parch:\tNumber of parents / children aboard the Titanic\n",
    "ticket:\tTicket number\n",
    "fare:\tPassenger fare\n",
    "cabin:\tCabin number\n",
    "embarked:\tPort of Embarkation\t{C = Cherbourg, Q = Queenstown, S = Southampton}\n",
    "\n",
    "```\n",
    "\n"
   ]
  },
  {
   "cell_type": "markdown",
   "metadata": {
    "id": "yPEaJmLOaCJv"
   },
   "source": [
    "Ejercicio 1. Carga el conjunto de datos \"Titanic\" de Seaborn. Calcula la media, mediana y moda de las edades de los pasajeros a bordo."
   ]
  },
  {
   "cell_type": "code",
   "metadata": {
    "colab": {
     "base_uri": "https://localhost:8080/",
     "height": 423
    },
    "executionInfo": {
     "elapsed": 614,
     "status": "ok",
     "timestamp": 1726184852208,
     "user": {
      "displayName": "Juan Manuel Miguez",
      "userId": "12274514258704764447"
     },
     "user_tz": 180
    },
    "id": "U7cBAKgNaDwV",
    "outputId": "cbec9b10-56b2-41ce-ad2c-741cf4e4e30e"
   },
   "source": [
    "df = sns.load_dataset(\"titanic\") #cargo el dataset \"Titanic\"\n",
    "df.head() #muestro las primeras 5 líneas\n",
    "\n",
    "df"
   ],
   "outputs": [],
   "execution_count": null
  },
  {
   "cell_type": "code",
   "metadata": {
    "colab": {
     "base_uri": "https://localhost:8080/",
     "height": 554
    },
    "executionInfo": {
     "elapsed": 349,
     "status": "ok",
     "timestamp": 1726184784713,
     "user": {
      "displayName": "Juan Manuel Miguez",
      "userId": "12274514258704764447"
     },
     "user_tz": 180
    },
    "id": "OVwJlowL8-Um",
    "outputId": "352fd9fe-e9dc-4a9a-bbef-b2df2a3841a7"
   },
   "source": [
    "df.count()"
   ],
   "outputs": [],
   "execution_count": null
  },
  {
   "cell_type": "code",
   "metadata": {
    "colab": {
     "base_uri": "https://localhost:8080/"
    },
    "executionInfo": {
     "elapsed": 360,
     "status": "ok",
     "timestamp": 1726185329424,
     "user": {
      "displayName": "Juan Manuel Miguez",
      "userId": "12274514258704764447"
     },
     "user_tz": 180
    },
    "id": "nRTxYEqPTynk",
    "outputId": "b4d7f260-bb91-4c1a-c73c-b9c62eb79dc0"
   },
   "source": [
    "#calculo la media_de_edad\n",
    "\n",
    "media = df[\"age\"].mean().astype(float)\n",
    "mediana = df[\"age\"].median().astype(float)\n",
    "moda = df[\"age\"].mode().astype(float)\n",
    "\n",
    "print(\"media=\",media)\n",
    "print(\"mediana=\",mediana)\n",
    "print(\"moda=\",moda)\n",
    "\n",
    "print(\"\"\"\\n\\r Media: %f \\n\\r Mediana: %f \\n\\r Moda: %f \\n\\r\"\"\" % (media,mediana,moda))\n"
   ],
   "outputs": [],
   "execution_count": null
  },
  {
   "cell_type": "code",
   "metadata": {
    "colab": {
     "base_uri": "https://localhost:8080/"
    },
    "executionInfo": {
     "elapsed": 364,
     "status": "ok",
     "timestamp": 1726185349924,
     "user": {
      "displayName": "Juan Manuel Miguez",
      "userId": "12274514258704764447"
     },
     "user_tz": 180
    },
    "id": "TuuLAJ6Hm-aQ",
    "outputId": "06a80b47-878e-4cda-9ca5-de0cd192fd4b"
   },
   "source": [
    "print(\"DESCRIBE df\")\n",
    "print(df['age'].describe())\n",
    "print(\"--------\")\n",
    "print(\"TIPOS de datos\")\n",
    "print(df.dtypes)"
   ],
   "outputs": [],
   "execution_count": null
  },
  {
   "cell_type": "markdown",
   "metadata": {
    "id": "MVwb7qlpaED8"
   },
   "source": [
    "Ejercicio 2. Calcula la media y la desviación estándar de las tarifas pagadas por los pasajeros en cada clase (primera, segunda y tercera)"
   ]
  },
  {
   "cell_type": "code",
   "metadata": {
    "colab": {
     "base_uri": "https://localhost:8080/"
    },
    "executionInfo": {
     "elapsed": 366,
     "status": "ok",
     "timestamp": 1726185413784,
     "user": {
      "displayName": "Juan Manuel Miguez",
      "userId": "12274514258704764447"
     },
     "user_tz": 180
    },
    "id": "_reXwYZwaIi_",
    "outputId": "f368ef9d-9b66-48ae-8bc6-510168d1843e"
   },
   "source": [
    "print(\"valor más alto de las tarifas pagadas por los pasajeros en cada clase=\",df.groupby('class')['fare'].max())\n",
    "print(\"\")\n",
    "print(\"Media de las tarifas pagadas por los pasajeros en cada clase=\",df.groupby('class')['fare'].mean())\n",
    "print(\"\")\n",
    "print(\"Desvío estándar de las tarifas pagadas por los pasajeros en cada clase=\",df.groupby('class')['fare'].std())\n",
    "print(\"\")\n",
    "#df.groupby('class')['fare'].mode()"
   ],
   "outputs": [],
   "execution_count": null
  },
  {
   "cell_type": "markdown",
   "metadata": {
    "id": "Ihxw8M8jaI0T"
   },
   "source": [
    "Ejercicio 3. Arma un histograma para visualizar la distribución de las edades de los pasajeros."
   ]
  },
  {
   "cell_type": "code",
   "metadata": {
    "colab": {
     "base_uri": "https://localhost:8080/",
     "height": 468
    },
    "executionInfo": {
     "elapsed": 401,
     "status": "ok",
     "timestamp": 1726185460697,
     "user": {
      "displayName": "Juan Manuel Miguez",
      "userId": "12274514258704764447"
     },
     "user_tz": 180
    },
    "id": "ZRSPmE-eaL_Y",
    "outputId": "b1d9e17e-317b-4f04-e867-216ed40195a8"
   },
   "source": [
    "import seaborn as sns\n",
    "\n",
    "titanic = sns.load_dataset('titanic')\n",
    "\n",
    "sns.countplot(x='sex',data=titanic)\n"
   ],
   "outputs": [],
   "execution_count": null
  },
  {
   "cell_type": "code",
   "metadata": {
    "colab": {
     "base_uri": "https://localhost:8080/",
     "height": 324
    },
    "executionInfo": {
     "elapsed": 1137,
     "status": "ok",
     "timestamp": 1726185474982,
     "user": {
      "displayName": "Juan Manuel Miguez",
      "userId": "12274514258704764447"
     },
     "user_tz": 180
    },
    "id": "FFBy9WXi0eF8",
    "outputId": "d320a757-ee2a-481a-8218-be158faab566"
   },
   "source": [
    "#1 gráfico para cada sexo, contando por edad.\n",
    "g = sns.FacetGrid(data=titanic,col='sex')\n",
    "g.map(plt.hist,'age')"
   ],
   "outputs": [],
   "execution_count": null
  },
  {
   "cell_type": "markdown",
   "metadata": {
    "id": "8CERdOk6aMRn"
   },
   "source": [
    "Ejercicio 4. Crea un boxplot (diagrama de caja) de las tarifas pagadas por los pasajeros en función del puerto de embarque (C = Cherbourg, Q = Queenstown, S = Southampton)"
   ]
  },
  {
   "cell_type": "code",
   "metadata": {
    "colab": {
     "base_uri": "https://localhost:8080/",
     "height": 573
    },
    "executionInfo": {
     "elapsed": 734,
     "status": "ok",
     "timestamp": 1726185501793,
     "user": {
      "displayName": "Juan Manuel Miguez",
      "userId": "12274514258704764447"
     },
     "user_tz": 180
    },
    "id": "lHdWGL7xaTc4",
    "outputId": "d689328c-4c45-457d-cf72-771671efaf60"
   },
   "source": [
    "sns.boxplot(x='embarked',y='fare',data=titanic,palette='rainbow')"
   ],
   "outputs": [],
   "execution_count": null
  },
  {
   "cell_type": "markdown",
   "metadata": {
    "id": "suqNf-p2aTuE"
   },
   "source": [
    "Ejercicio 5. Calcula los percentiles 25, 50 y 75 de las edades de los pasajeros."
   ]
  },
  {
   "cell_type": "code",
   "metadata": {
    "colab": {
     "base_uri": "https://localhost:8080/"
    },
    "executionInfo": {
     "elapsed": 357,
     "status": "ok",
     "timestamp": 1726185695193,
     "user": {
      "displayName": "Juan Manuel Miguez",
      "userId": "12274514258704764447"
     },
     "user_tz": 180
    },
    "id": "aslwV_26an5L",
    "outputId": "2800b86a-9d25-4bce-c9c3-a1a1ac8d27a6"
   },
   "source": [
    "p25 = df[\"age\"].quantile(0.25)\n",
    "p50 = df[\"age\"].quantile(0.50)\n",
    "p75 = df[\"age\"].quantile(0.75)\n",
    "\n",
    "print(\"\"\"\n",
    "    percentile 25: %f\n",
    "    percentile 50: %f\n",
    "    percentile 75: %f\n",
    "\"\"\" % (p25,p50,p75))"
   ],
   "outputs": [],
   "execution_count": null
  },
  {
   "cell_type": "markdown",
   "metadata": {
    "id": "1Ueaa3YMaoMu"
   },
   "source": [
    "Ejercicio 6. Calcula la proporción de pasajeros que sobrevivieron y fallecieron en función de su sexo\n",
    "\n"
   ]
  },
  {
   "cell_type": "code",
   "metadata": {
    "colab": {
     "base_uri": "https://localhost:8080/"
    },
    "executionInfo": {
     "elapsed": 366,
     "status": "ok",
     "timestamp": 1726185804238,
     "user": {
      "displayName": "Juan Manuel Miguez",
      "userId": "12274514258704764447"
     },
     "user_tz": 180
    },
    "id": "D80TuUo2bG-R",
    "outputId": "9b56fa5b-2e59-4b43-95f6-0a0c9450bd91"
   },
   "source": [
    "sobrevivientes_por_sexo = df.groupby(['sex','survived']).size()\n",
    "print(\"sobrevivientes_por_sexo=\"+\"\\n\\r\"+\"\\n\\r\",sobrevivientes_por_sexo)"
   ],
   "outputs": [],
   "execution_count": null
  }
 ],
 "metadata": {
  "colab": {
   "provenance": []
  },
  "kernelspec": {
   "display_name": "Python 3",
   "name": "python3"
  },
  "language_info": {
   "name": "python"
  }
 },
 "nbformat": 4,
 "nbformat_minor": 0
}
